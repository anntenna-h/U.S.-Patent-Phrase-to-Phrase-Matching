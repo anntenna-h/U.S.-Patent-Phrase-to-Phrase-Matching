{
 "cells": [
  {
   "cell_type": "code",
   "execution_count": 1,
   "id": "a95a419c",
   "metadata": {
    "execution": {
     "iopub.execute_input": "2022-05-13T08:17:00.657349Z",
     "iopub.status.busy": "2022-05-13T08:17:00.656968Z",
     "iopub.status.idle": "2022-05-13T08:17:09.482306Z",
     "shell.execute_reply": "2022-05-13T08:17:09.481472Z"
    },
    "papermill": {
     "duration": 8.848771,
     "end_time": "2022-05-13T08:17:09.484537",
     "exception": false,
     "start_time": "2022-05-13T08:17:00.635766",
     "status": "completed"
    },
    "tags": []
   },
   "outputs": [],
   "source": [
    "import pandas as pd\n",
    "import numpy as np\n",
    "import seaborn as sns\n",
    "import matplotlib.pyplot as plt\n",
    "import torch\n",
    "import torch.nn as nn\n",
    "import os\n",
    "import re\n",
    "from torchmetrics import MeanSquaredError\n",
    "from torch.utils.data import Dataset, DataLoader\n",
    "from transformers import AutoModel, AutoTokenizer\n",
    "from sklearn.model_selection import train_test_split\n",
    "import pytorch_lightning as pl\n",
    "from pytorch_lightning import Trainer, seed_everything\n",
    "from pytorch_lightning import Callback\n",
    "from pytorch_lightning.loggers import CSVLogger\n",
    "from pytorch_lightning.callbacks import ModelCheckpoint, EarlyStopping\n",
    "from transformers import DebertaV2Config, DebertaV2Tokenizer, DebertaV2ForSequenceClassification, DebertaV2Model\n",
    "from transformers import AutoConfig, AutoModel, AutoTokenizer\n",
    "from transformers.models.deberta.modeling_deberta import StableDropout"
   ]
  },
  {
   "cell_type": "code",
   "execution_count": 2,
   "id": "cdfb96c4",
   "metadata": {
    "execution": {
     "iopub.execute_input": "2022-05-13T08:17:09.523035Z",
     "iopub.status.busy": "2022-05-13T08:17:09.522426Z",
     "iopub.status.idle": "2022-05-13T08:17:09.624856Z",
     "shell.execute_reply": "2022-05-13T08:17:09.624125Z"
    },
    "papermill": {
     "duration": 0.124064,
     "end_time": "2022-05-13T08:17:09.627107",
     "exception": false,
     "start_time": "2022-05-13T08:17:09.503043",
     "status": "completed"
    },
    "tags": []
   },
   "outputs": [],
   "source": [
    "train_data = pd.read_csv(\"../input/us-patent-phrase-to-phrase-matching/train.csv\")\n",
    "test_data = pd.read_csv(\"../input/us-patent-phrase-to-phrase-matching/test.csv\")\n",
    "sample_submission_data = pd.read_csv(\"../input/us-patent-phrase-to-phrase-matching/sample_submission.csv\")"
   ]
  },
  {
   "cell_type": "code",
   "execution_count": 3,
   "id": "275127ed",
   "metadata": {
    "execution": {
     "iopub.execute_input": "2022-05-13T08:17:09.665686Z",
     "iopub.status.busy": "2022-05-13T08:17:09.665467Z",
     "iopub.status.idle": "2022-05-13T08:17:09.668809Z",
     "shell.execute_reply": "2022-05-13T08:17:09.668136Z"
    },
    "papermill": {
     "duration": 0.023984,
     "end_time": "2022-05-13T08:17:09.670478",
     "exception": false,
     "start_time": "2022-05-13T08:17:09.646494",
     "status": "completed"
    },
    "tags": []
   },
   "outputs": [],
   "source": [
    "OUTPUT_DIR = './'"
   ]
  },
  {
   "cell_type": "code",
   "execution_count": 4,
   "id": "28769c85",
   "metadata": {
    "execution": {
     "iopub.execute_input": "2022-05-13T08:17:09.707415Z",
     "iopub.status.busy": "2022-05-13T08:17:09.707227Z",
     "iopub.status.idle": "2022-05-13T08:17:10.722106Z",
     "shell.execute_reply": "2022-05-13T08:17:10.721459Z"
    },
    "papermill": {
     "duration": 1.035198,
     "end_time": "2022-05-13T08:17:10.723715",
     "exception": false,
     "start_time": "2022-05-13T08:17:09.688517",
     "status": "completed"
    },
    "tags": []
   },
   "outputs": [
    {
     "data": {
      "text/html": [
       "<div>\n",
       "<style scoped>\n",
       "    .dataframe tbody tr th:only-of-type {\n",
       "        vertical-align: middle;\n",
       "    }\n",
       "\n",
       "    .dataframe tbody tr th {\n",
       "        vertical-align: top;\n",
       "    }\n",
       "\n",
       "    .dataframe thead th {\n",
       "        text-align: right;\n",
       "    }\n",
       "</style>\n",
       "<table border=\"1\" class=\"dataframe\">\n",
       "  <thead>\n",
       "    <tr style=\"text-align: right;\">\n",
       "      <th></th>\n",
       "      <th>id</th>\n",
       "      <th>anchor</th>\n",
       "      <th>target</th>\n",
       "      <th>context</th>\n",
       "      <th>score</th>\n",
       "      <th>context_text</th>\n",
       "    </tr>\n",
       "  </thead>\n",
       "  <tbody>\n",
       "    <tr>\n",
       "      <th>0</th>\n",
       "      <td>37d61fd2272659b1</td>\n",
       "      <td>abatement</td>\n",
       "      <td>abatement of pollution</td>\n",
       "      <td>A47</td>\n",
       "      <td>0.50</td>\n",
       "      <td>HUMAN NECESSITIES. FURNITURE; DOMESTIC ARTICLE...</td>\n",
       "    </tr>\n",
       "    <tr>\n",
       "      <th>1</th>\n",
       "      <td>7b9652b17b68b7a4</td>\n",
       "      <td>abatement</td>\n",
       "      <td>act of abating</td>\n",
       "      <td>A47</td>\n",
       "      <td>0.75</td>\n",
       "      <td>HUMAN NECESSITIES. FURNITURE; DOMESTIC ARTICLE...</td>\n",
       "    </tr>\n",
       "    <tr>\n",
       "      <th>2</th>\n",
       "      <td>36d72442aefd8232</td>\n",
       "      <td>abatement</td>\n",
       "      <td>active catalyst</td>\n",
       "      <td>A47</td>\n",
       "      <td>0.25</td>\n",
       "      <td>HUMAN NECESSITIES. FURNITURE; DOMESTIC ARTICLE...</td>\n",
       "    </tr>\n",
       "    <tr>\n",
       "      <th>3</th>\n",
       "      <td>5296b0c19e1ce60e</td>\n",
       "      <td>abatement</td>\n",
       "      <td>eliminating process</td>\n",
       "      <td>A47</td>\n",
       "      <td>0.50</td>\n",
       "      <td>HUMAN NECESSITIES. FURNITURE; DOMESTIC ARTICLE...</td>\n",
       "    </tr>\n",
       "    <tr>\n",
       "      <th>4</th>\n",
       "      <td>54c1e3b9184cb5b6</td>\n",
       "      <td>abatement</td>\n",
       "      <td>forest region</td>\n",
       "      <td>A47</td>\n",
       "      <td>0.00</td>\n",
       "      <td>HUMAN NECESSITIES. FURNITURE; DOMESTIC ARTICLE...</td>\n",
       "    </tr>\n",
       "  </tbody>\n",
       "</table>\n",
       "</div>"
      ],
      "text/plain": [
       "                 id     anchor                  target context  score  \\\n",
       "0  37d61fd2272659b1  abatement  abatement of pollution     A47   0.50   \n",
       "1  7b9652b17b68b7a4  abatement          act of abating     A47   0.75   \n",
       "2  36d72442aefd8232  abatement         active catalyst     A47   0.25   \n",
       "3  5296b0c19e1ce60e  abatement     eliminating process     A47   0.50   \n",
       "4  54c1e3b9184cb5b6  abatement           forest region     A47   0.00   \n",
       "\n",
       "                                        context_text  \n",
       "0  HUMAN NECESSITIES. FURNITURE; DOMESTIC ARTICLE...  \n",
       "1  HUMAN NECESSITIES. FURNITURE; DOMESTIC ARTICLE...  \n",
       "2  HUMAN NECESSITIES. FURNITURE; DOMESTIC ARTICLE...  \n",
       "3  HUMAN NECESSITIES. FURNITURE; DOMESTIC ARTICLE...  \n",
       "4  HUMAN NECESSITIES. FURNITURE; DOMESTIC ARTICLE...  "
      ]
     },
     "metadata": {},
     "output_type": "display_data"
    },
    {
     "data": {
      "text/html": [
       "<div>\n",
       "<style scoped>\n",
       "    .dataframe tbody tr th:only-of-type {\n",
       "        vertical-align: middle;\n",
       "    }\n",
       "\n",
       "    .dataframe tbody tr th {\n",
       "        vertical-align: top;\n",
       "    }\n",
       "\n",
       "    .dataframe thead th {\n",
       "        text-align: right;\n",
       "    }\n",
       "</style>\n",
       "<table border=\"1\" class=\"dataframe\">\n",
       "  <thead>\n",
       "    <tr style=\"text-align: right;\">\n",
       "      <th></th>\n",
       "      <th>id</th>\n",
       "      <th>anchor</th>\n",
       "      <th>target</th>\n",
       "      <th>context</th>\n",
       "      <th>context_text</th>\n",
       "    </tr>\n",
       "  </thead>\n",
       "  <tbody>\n",
       "    <tr>\n",
       "      <th>0</th>\n",
       "      <td>4112d61851461f60</td>\n",
       "      <td>opc drum</td>\n",
       "      <td>inorganic photoconductor drum</td>\n",
       "      <td>G02</td>\n",
       "      <td>PHYSICS. OPTICS</td>\n",
       "    </tr>\n",
       "    <tr>\n",
       "      <th>1</th>\n",
       "      <td>09e418c93a776564</td>\n",
       "      <td>adjust gas flow</td>\n",
       "      <td>altering gas flow</td>\n",
       "      <td>F23</td>\n",
       "      <td>MECHANICAL ENGINEERING; LIGHTING; HEATING; WEA...</td>\n",
       "    </tr>\n",
       "    <tr>\n",
       "      <th>2</th>\n",
       "      <td>36baf228038e314b</td>\n",
       "      <td>lower trunnion</td>\n",
       "      <td>lower locating</td>\n",
       "      <td>B60</td>\n",
       "      <td>PERFORMING OPERATIONS; TRANSPORTING. VEHICLES ...</td>\n",
       "    </tr>\n",
       "    <tr>\n",
       "      <th>3</th>\n",
       "      <td>1f37ead645e7f0c8</td>\n",
       "      <td>cap component</td>\n",
       "      <td>upper portion</td>\n",
       "      <td>D06</td>\n",
       "      <td>TEXTILES; PAPER. TREATMENT OF TEXTILES OR THE ...</td>\n",
       "    </tr>\n",
       "    <tr>\n",
       "      <th>4</th>\n",
       "      <td>71a5b6ad068d531f</td>\n",
       "      <td>neural stimulation</td>\n",
       "      <td>artificial neural network</td>\n",
       "      <td>H04</td>\n",
       "      <td>ELECTRICITY. ELECTRIC COMMUNICATION TECHNIQUE</td>\n",
       "    </tr>\n",
       "  </tbody>\n",
       "</table>\n",
       "</div>"
      ],
      "text/plain": [
       "                 id              anchor                         target  \\\n",
       "0  4112d61851461f60            opc drum  inorganic photoconductor drum   \n",
       "1  09e418c93a776564     adjust gas flow              altering gas flow   \n",
       "2  36baf228038e314b      lower trunnion                 lower locating   \n",
       "3  1f37ead645e7f0c8       cap component                  upper portion   \n",
       "4  71a5b6ad068d531f  neural stimulation      artificial neural network   \n",
       "\n",
       "  context                                       context_text  \n",
       "0     G02                                    PHYSICS. OPTICS  \n",
       "1     F23  MECHANICAL ENGINEERING; LIGHTING; HEATING; WEA...  \n",
       "2     B60  PERFORMING OPERATIONS; TRANSPORTING. VEHICLES ...  \n",
       "3     D06  TEXTILES; PAPER. TREATMENT OF TEXTILES OR THE ...  \n",
       "4     H04      ELECTRICITY. ELECTRIC COMMUNICATION TECHNIQUE  "
      ]
     },
     "metadata": {},
     "output_type": "display_data"
    }
   ],
   "source": [
    "# ====================================================\n",
    "# CPC Data\n",
    "# ====================================================\n",
    "def get_cpc_texts():\n",
    "    contexts = []\n",
    "    pattern = '[A-Z]\\d+'\n",
    "    for file_name in os.listdir('../input/cpc-data/CPCSchemeXML202105'):\n",
    "        result = re.findall(pattern, file_name)\n",
    "        if result:\n",
    "            contexts.append(result)\n",
    "    contexts = sorted(set(sum(contexts, [])))\n",
    "    results = {}\n",
    "    for cpc in ['A', 'B', 'C', 'D', 'E', 'F', 'G', 'H', 'Y']:\n",
    "        with open(f'../input/cpc-data/CPCTitleList202202/cpc-section-{cpc}_20220201.txt') as f:\n",
    "            s = f.read()\n",
    "        pattern = f'{cpc}\\t\\t.+'\n",
    "        result = re.findall(pattern, s)\n",
    "        cpc_result = result[0].lstrip(pattern)\n",
    "        for context in [c for c in contexts if c[0] == cpc]:\n",
    "            pattern = f'{context}\\t\\t.+'\n",
    "            result = re.findall(pattern, s)\n",
    "            results[context] = cpc_result + \". \" + result[0].lstrip(pattern)\n",
    "    return results\n",
    "\n",
    "\n",
    "cpc_texts = get_cpc_texts()\n",
    "torch.save(cpc_texts, OUTPUT_DIR+\"cpc_texts.pth\")\n",
    "train_data['context_text'] = train_data['context'].map(cpc_texts) \n",
    "test_data['context_text'] = test_data['context'].map(cpc_texts)\n",
    "display(train_data.head())\n",
    "display(test_data.head())"
   ]
  },
  {
   "cell_type": "code",
   "execution_count": 5,
   "id": "82b14f97",
   "metadata": {
    "execution": {
     "iopub.execute_input": "2022-05-13T08:17:10.766616Z",
     "iopub.status.busy": "2022-05-13T08:17:10.766383Z",
     "iopub.status.idle": "2022-05-13T08:17:10.772225Z",
     "shell.execute_reply": "2022-05-13T08:17:10.771616Z"
    },
    "papermill": {
     "duration": 0.02832,
     "end_time": "2022-05-13T08:17:10.774009",
     "exception": false,
     "start_time": "2022-05-13T08:17:10.745689",
     "status": "completed"
    },
    "tags": []
   },
   "outputs": [],
   "source": [
    "class CFG:\n",
    "    val_size = 0.20\n",
    "    max_len = 128\n",
    "    model_name = '../input/deberta/base'\n",
    "    embedding = 128\n",
    "    out_features = 1\n",
    "    batch_size = 12\n",
    "    epochs = 6\n",
    "    lr = 2e-5\n",
    "    max_lr = 1e-3\n",
    "    steps_per_epoch = None\n",
    "    pct_start = 0.3\n",
    "    div_factor = 1e+2\n",
    "    final_div_factor = 1e+4\n",
    "    accumulate = 4\n",
    "    patience = 3\n",
    "    monitor = 'val_loss'\n",
    "    seed = 42\n",
    "    debug = False"
   ]
  },
  {
   "cell_type": "code",
   "execution_count": 6,
   "id": "226f2d6a",
   "metadata": {
    "execution": {
     "iopub.execute_input": "2022-05-13T08:17:10.814330Z",
     "iopub.status.busy": "2022-05-13T08:17:10.814102Z",
     "iopub.status.idle": "2022-05-13T08:17:10.827645Z",
     "shell.execute_reply": "2022-05-13T08:17:10.826904Z"
    },
    "papermill": {
     "duration": 0.036081,
     "end_time": "2022-05-13T08:17:10.829582",
     "exception": false,
     "start_time": "2022-05-13T08:17:10.793501",
     "status": "completed"
    },
    "tags": []
   },
   "outputs": [],
   "source": [
    "class PhraseSimilarityDataset(Dataset):\n",
    "    \n",
    "    def __init__(self, df, tokenizer):\n",
    "        self.df = df \n",
    "        self.tokenizer = tokenizer\n",
    "        \n",
    "        self.tokenizer_params = {\n",
    "            'max_length' : CFG.max_len,\n",
    "            'padding' : 'max_length',\n",
    "            'truncation' : True\n",
    "        }\n",
    "        \n",
    "    \n",
    "    def __len__(self):\n",
    "        return self.df.shape[0]\n",
    "    \n",
    "    def __getitem__(self, index):\n",
    "        anchor = self.df.anchor.iloc[index].lower()\n",
    "        target = self.df.target.iloc[index].lower()\n",
    "        text = self.df.context_text.iloc[index].lower()\n",
    "        \n",
    "        anchor_tokens = self.tokenizer(anchor , text,**self.tokenizer_params)\n",
    "        target_tokens = self.tokenizer(target , text, **self.tokenizer_params)\n",
    "        \n",
    "        \n",
    "        score = torch.tensor(self.df.score.iloc[index], dtype=torch.float32)\n",
    "        \n",
    "        return (\n",
    "            (np.array(anchor_tokens['input_ids']),\n",
    "            np.array(anchor_tokens['attention_mask']),\n",
    "            np.array(anchor_tokens['token_type_ids'])),\n",
    "            (np.array(target_tokens['input_ids']),\n",
    "            np.array(target_tokens['attention_mask']),\n",
    "            np.array(target_tokens['token_type_ids'])),\n",
    "            score\n",
    "        )\n",
    "    \n",
    "class PhraseSimilarityTestset(Dataset):\n",
    "    \n",
    "    def __init__(self, df, tokenizer):\n",
    "        self.df = df\n",
    "        self.tokenizer = tokenizer\n",
    "        \n",
    "        self.tokenizer_params = {\n",
    "            'max_length' : CFG.max_len,\n",
    "            'padding' : 'max_length',\n",
    "            'truncation' : True\n",
    "        }\n",
    "        \n",
    "    def __len__(self):\n",
    "        return self.df.shape[0]\n",
    "    \n",
    "    def __getitem__(self, index):\n",
    "        anchor = self.df.anchor.iloc[index].lower()\n",
    "        target = self.df.target.iloc[index].lower()\n",
    "        text = self.df.context_text.iloc[index].lower()\n",
    "        \n",
    "        anchor_tokens = self.tokenizer(anchor , text,**self.tokenizer_params)\n",
    "        target_tokens = self.tokenizer(target , text, **self.tokenizer_params)\n",
    "        \n",
    "        return (\n",
    "            (np.array(anchor_tokens['input_ids']),\n",
    "            np.array(anchor_tokens['attention_mask']),\n",
    "            np.array(anchor_tokens['token_type_ids'])),\n",
    "            (np.array(target_tokens['input_ids']),\n",
    "            np.array(target_tokens['attention_mask']),\n",
    "            np.array(target_tokens['token_type_ids']))\n",
    "        )"
   ]
  },
  {
   "cell_type": "code",
   "execution_count": 7,
   "id": "4da796cd",
   "metadata": {
    "execution": {
     "iopub.execute_input": "2022-05-13T08:17:10.870965Z",
     "iopub.status.busy": "2022-05-13T08:17:10.870779Z",
     "iopub.status.idle": "2022-05-13T08:17:10.876244Z",
     "shell.execute_reply": "2022-05-13T08:17:10.875529Z"
    },
    "papermill": {
     "duration": 0.026977,
     "end_time": "2022-05-13T08:17:10.877772",
     "exception": false,
     "start_time": "2022-05-13T08:17:10.850795",
     "status": "completed"
    },
    "tags": []
   },
   "outputs": [],
   "source": [
    "def compute_kernel_bias(vecs,n_components):\n",
    "    \"\"\"计算kernel和bias\n",
    "    y = (x + bias).dot(kernel)\n",
    "    \"\"\"\n",
    "    vecs = np.concatenate(vecs, axis=0)\n",
    "    mu = vecs.mean(axis=0, keepdims=True)\n",
    "    cov = np.cov(vecs.T)\n",
    "    u, s, vh = np.linalg.svd(cov)\n",
    "    W = np.dot(u, np.diag(s**0.5))\n",
    "    W = np.linalg.inv(W.T)\n",
    "    W = W[:, :n_components]\n",
    "    return W, -mu"
   ]
  },
  {
   "cell_type": "code",
   "execution_count": 8,
   "id": "8b85e3bd",
   "metadata": {
    "execution": {
     "iopub.execute_input": "2022-05-13T08:17:10.917068Z",
     "iopub.status.busy": "2022-05-13T08:17:10.916886Z",
     "iopub.status.idle": "2022-05-13T08:17:10.920476Z",
     "shell.execute_reply": "2022-05-13T08:17:10.919802Z"
    },
    "papermill": {
     "duration": 0.025224,
     "end_time": "2022-05-13T08:17:10.922031",
     "exception": false,
     "start_time": "2022-05-13T08:17:10.896807",
     "status": "completed"
    },
    "tags": []
   },
   "outputs": [],
   "source": [
    "def normalize(vecs):\n",
    "    \"\"\"标准化\n",
    "    \"\"\"\n",
    "    return vecs / (vecs**2).sum(axis=1, keepdims=True)**0.5"
   ]
  },
  {
   "cell_type": "code",
   "execution_count": 9,
   "id": "3de78207",
   "metadata": {
    "execution": {
     "iopub.execute_input": "2022-05-13T08:17:10.961310Z",
     "iopub.status.busy": "2022-05-13T08:17:10.960859Z",
     "iopub.status.idle": "2022-05-13T08:17:10.964762Z",
     "shell.execute_reply": "2022-05-13T08:17:10.964131Z"
    },
    "papermill": {
     "duration": 0.025269,
     "end_time": "2022-05-13T08:17:10.966424",
     "exception": false,
     "start_time": "2022-05-13T08:17:10.941155",
     "status": "completed"
    },
    "tags": []
   },
   "outputs": [],
   "source": [
    "def transform_and_normalize(vecs, kernel, bias):\n",
    "    \"\"\"应用变换，然后标准化\n",
    "    \"\"\"\n",
    "    if not (kernel is None or bias is None):\n",
    "        vecs = (vecs + bias).dot(kernel)\n",
    "    return normalize(vecs)"
   ]
  },
  {
   "cell_type": "code",
   "execution_count": 10,
   "id": "3a311beb",
   "metadata": {
    "execution": {
     "iopub.execute_input": "2022-05-13T08:17:11.006125Z",
     "iopub.status.busy": "2022-05-13T08:17:11.005816Z",
     "iopub.status.idle": "2022-05-13T08:17:11.028571Z",
     "shell.execute_reply": "2022-05-13T08:17:11.027926Z"
    },
    "papermill": {
     "duration": 0.044795,
     "end_time": "2022-05-13T08:17:11.030269",
     "exception": false,
     "start_time": "2022-05-13T08:17:10.985474",
     "status": "completed"
    },
    "tags": []
   },
   "outputs": [],
   "source": [
    "class PhraseSimilarityModel(pl.LightningModule):\n",
    "    def __init__(self):\n",
    "        super(PhraseSimilarityModel, self).__init__()\n",
    "        class PhraseSimilarityModelImpl(nn.Module):\n",
    "            def __init__(self, model_name):\n",
    "                super().__init__()\n",
    "                self.config = AutoConfig.from_pretrained(model_name)\n",
    "                self.bert = AutoModel.from_pretrained(model_name, config=self.config)\n",
    "                self.dense = nn.Linear(self.config.hidden_size, self.config.hidden_size, bias=True)  #1024, 1024\n",
    "                self.head = nn.Linear(self.config.hidden_size, CFG.out_features, bias=True) #1024, 1\n",
    "                # self.dropout = nn.Dropout(0.5)\n",
    "                self.stabledropout = StableDropout(self.config.hidden_dropout_prob)  # hidden_dropout_prob = 0.1\n",
    "                self.stabledropout_pooler = StableDropout(self.config.pooler_dropout) # pooler_dropout = 0\n",
    "                # transformers.models.deberta.modeling_deberta.StableDropout, optimized dropout module for stabilizing the training\n",
    "                self.act2fn = nn.GELU()\n",
    "            \n",
    "            def forward(self, input1, input2):\n",
    "                \n",
    "                feats1 = self.bert(input1[0], input1[1],input1[2])['last_hidden_state'][:, 0]\n",
    "                feats2 = self.bert(input2[0],input2[1],input2[2])['last_hidden_state'][:, 0]\n",
    "                # last_hidden_layers (batch_size, max_length, 1024)\n",
    "                \n",
    "                # feats = torch.sum(feats[0], 1)/feats[0].shape[1]\n",
    "                # feats = self.dropout(feats)\n",
    "                # output = self.head(feats)\n",
    "                \n",
    "                #context_token = feats[:, 0] \n",
    "                \n",
    "                # pooler -> dropout\n",
    "                #context_token = self.stabledropout_pooler(context_token)\n",
    "                #pooled_output = self.dense(context_token) \n",
    "                \n",
    "                pooled_output1,pooled_output2 = self.dense(self.stabledropout_pooler(feats1)),self.dense(self.stabledropout_pooler(feats2))\n",
    "                \n",
    "                # ACT2FN = {\"gelu\": gelu, \"relu\": torch.nn.functional.relu, \"swish\": swish} \n",
    "                #pooled_output = self.act2fn(pooled_output)\n",
    "                #pooled_output = self.stabledropout(pooled_output)\n",
    "                pooled_output1,pooled_output2 = self.stabledropout(self.act2fn(pooled_output1)),self.stabledropout(self.act2fn(pooled_output2))\n",
    "                #vec1,vec2 = pooled_output1.detach().numpy(),pooled_output2.detach().numpy()\n",
    "                #kernel,bias = compute_kernel_bias([vec1,vec2],96)\n",
    "                #anc_output = transforms_and_normalize()\n",
    "                #output = torch.cosine_similarity(pooled_output1,pooled_output2,dim=1)\n",
    "                #output = self.head(pooled_output) # (1, batch_size)\n",
    "                return pooled_output1,pooled_output2\n",
    "\n",
    "\n",
    "        self.model = PhraseSimilarityModelImpl(CFG.model_name)\n",
    "        self.criterion = nn.MSELoss()\n",
    "        self.metric = MeanSquaredError()\n",
    "        \n",
    "    def forward(self, input1, input2):\n",
    "        return self.model(input1,input2)\n",
    "    \n",
    "    def configure_optimizers(self):\n",
    "        self.optimizer = torch.optim.Adam(self.model.parameters(), lr=CFG.lr)\n",
    "        return self.optimizer\n",
    "    \n",
    "    def training_step(self, batch, batch_idx): \n",
    "\n",
    "        anc_in,tar_in,label = batch[0], batch[1] ,batch[2]\n",
    "        output1,output2 = self.model(anc_in,tar_in)\n",
    "        preds = torch.cosine_similarity(output1,output2,dim=1)\n",
    "        # print(\"preds: \", '\\n', preds)\n",
    "        # print(\"target: \", '\\n', batch[2])\n",
    "        # print('size: ', preds.shape, preds.squeeze(1).shape, batch[2].shape)\n",
    "        loss = self.criterion(preds, label) \n",
    "        rmse = self.metric(preds, label)\n",
    "        logs = {'train_loss': loss, 'train_error': rmse, 'lr': self.optimizer.param_groups[0]['lr']}\n",
    "        self.log_dict(logs, on_step=True, on_epoch=True, prog_bar=True, logger=True)\n",
    "        return loss\n",
    "    \n",
    "    def validation_step(self, batch, batch_idx):\n",
    "        anc_in,tar_in,label = batch[0], batch[1] ,batch[2]\n",
    "        #preds = self.model(anc_in,tar_in)\n",
    "        output1,output2 = self.model(anc_in,tar_in)\n",
    "        vec1,vec2 = output1.cpu().numpy(),output2.cpu().numpy()\n",
    "        kernel,bias = compute_kernel_bias([vec1,vec2],96)\n",
    "        anc_output = torch.from_numpy(transform_and_normalize(vec1,kernel,bias))\n",
    "        tar_output = torch.from_numpy(transform_and_normalize(vec2,kernel,bias))\n",
    "        preds = torch.cosine_similarity(anc_output,tar_output,dim=1)\n",
    "        loss = self.criterion(preds, label)\n",
    "        rmse = self.metric(preds, label)\n",
    "        logs = {'val_loss': loss, 'val_error': rmse}\n",
    "        self.log_dict(logs, on_step=True, on_epoch=True, prog_bar=True, logger=True)\n",
    "        return loss\n",
    "    \n",
    "    def predict_step(self, batch, batch_idx):\n",
    "        anc_in,tar_in = batch[0], batch[1]\n",
    "        output1,output2 = self.model(anc_in,tar_in)\n",
    "        vec1,vec2 = output1.cpu().numpy(),output2.cpu().numpy()\n",
    "        kernel,bias = compute_kernel_bias([vec1,vec2],96)\n",
    "        anc_output = torch.from_numpy(transform_and_normalize(vec1,kernel,bias))\n",
    "        tar_output = torch.from_numpy(transform_and_normalize(vec2,kernel,bias))\n",
    "        preds = torch.cosine_similarity(anc_output,tar_output,dim=1)\n",
    "        return preds"
   ]
  },
  {
   "cell_type": "code",
   "execution_count": 11,
   "id": "7b86778b",
   "metadata": {
    "execution": {
     "iopub.execute_input": "2022-05-13T08:17:11.070668Z",
     "iopub.status.busy": "2022-05-13T08:17:11.070412Z",
     "iopub.status.idle": "2022-05-13T08:17:11.260513Z",
     "shell.execute_reply": "2022-05-13T08:17:11.259678Z"
    },
    "papermill": {
     "duration": 0.213655,
     "end_time": "2022-05-13T08:17:11.263615",
     "exception": false,
     "start_time": "2022-05-13T08:17:11.049960",
     "status": "completed"
    },
    "tags": []
   },
   "outputs": [
    {
     "data": {
      "text/plain": [
       "733"
      ]
     },
     "metadata": {},
     "output_type": "display_data"
    },
    {
     "data": {
      "text/plain": [
       "146"
      ]
     },
     "metadata": {},
     "output_type": "display_data"
    },
    {
     "data": {
      "text/plain": [
       "36473"
      ]
     },
     "metadata": {},
     "output_type": "display_data"
    },
    {
     "name": "stdout",
     "output_type": "stream",
     "text": [
      "7516 28957\n",
      "7516 28957\n"
     ]
    }
   ],
   "source": [
    "np.random.seed(CFG.seed)\n",
    "anchors = train_data.anchor.unique()\n",
    "display(len(anchors))\n",
    "np.random.shuffle(anchors)\n",
    "val_sz = int(len(anchors)*CFG.val_size) #0.2\n",
    "val_anchors = anchors[:val_sz]\n",
    "display(len(val_anchors))\n",
    "is_val = np.isin(train_data.anchor, val_anchors)\n",
    "idxs = np.arange(len(train_data))\n",
    "display(len(idxs))\n",
    "val_idxs = idxs[is_val]\n",
    "trn_idxs = idxs[~is_val]\n",
    "print(len(val_idxs),len(trn_idxs))\n",
    "#val = train_data.loc[val_idxs].iloc[:50]\n",
    "#train = train_data.loc[trn_idxs].iloc[:200]\n",
    "val = train_data.loc[val_idxs]\n",
    "train = train_data.loc[trn_idxs]\n",
    "print(len(val),len(train))"
   ]
  },
  {
   "cell_type": "code",
   "execution_count": 12,
   "id": "219cbb0e",
   "metadata": {
    "execution": {
     "iopub.execute_input": "2022-05-13T08:17:11.308988Z",
     "iopub.status.busy": "2022-05-13T08:17:11.308767Z",
     "iopub.status.idle": "2022-05-13T08:17:11.518111Z",
     "shell.execute_reply": "2022-05-13T08:17:11.517380Z"
    },
    "papermill": {
     "duration": 0.233509,
     "end_time": "2022-05-13T08:17:11.520182",
     "exception": false,
     "start_time": "2022-05-13T08:17:11.286673",
     "status": "completed"
    },
    "tags": []
   },
   "outputs": [],
   "source": [
    "tokenizer = AutoTokenizer.from_pretrained(CFG.model_name)\n",
    "train_dataset = PhraseSimilarityDataset(train, tokenizer)\n",
    "val_dataset = PhraseSimilarityDataset(val, tokenizer)\n",
    "test_dataset = PhraseSimilarityTestset(test_data, tokenizer)\n",
    "train_dataloader = DataLoader(train_dataset, batch_size=CFG.batch_size, shuffle=True)\n",
    "val_dataloader = DataLoader(val_dataset, batch_size=CFG.batch_size, shuffle=False)\n",
    "test_dataloader = DataLoader(test_dataset, batch_size=CFG.batch_size, shuffle=False)"
   ]
  },
  {
   "cell_type": "code",
   "execution_count": 13,
   "id": "110e97e7",
   "metadata": {
    "execution": {
     "iopub.execute_input": "2022-05-13T08:17:11.564073Z",
     "iopub.status.busy": "2022-05-13T08:17:11.563424Z",
     "iopub.status.idle": "2022-05-13T08:17:11.569971Z",
     "shell.execute_reply": "2022-05-13T08:17:11.569273Z"
    },
    "papermill": {
     "duration": 0.030301,
     "end_time": "2022-05-13T08:17:11.571634",
     "exception": false,
     "start_time": "2022-05-13T08:17:11.541333",
     "status": "completed"
    },
    "tags": []
   },
   "outputs": [
    {
     "data": {
      "text/plain": [
       "2414"
      ]
     },
     "execution_count": 13,
     "metadata": {},
     "output_type": "execute_result"
    }
   ],
   "source": [
    "CFG.steps_per_epoch = len(train_dataloader)\n",
    "CFG.steps_per_epoch"
   ]
  },
  {
   "cell_type": "code",
   "execution_count": 14,
   "id": "7d6fa38c",
   "metadata": {
    "execution": {
     "iopub.execute_input": "2022-05-13T08:17:11.615538Z",
     "iopub.status.busy": "2022-05-13T08:17:11.614963Z",
     "iopub.status.idle": "2022-05-13T08:17:11.700976Z",
     "shell.execute_reply": "2022-05-13T08:17:11.700278Z"
    },
    "papermill": {
     "duration": 0.110077,
     "end_time": "2022-05-13T08:17:11.702962",
     "exception": false,
     "start_time": "2022-05-13T08:17:11.592885",
     "status": "completed"
    },
    "tags": []
   },
   "outputs": [],
   "source": [
    "logger = CSVLogger(save_dir='./', name=CFG.model_name.split('/')[-1]+'_log')\n",
    "logger.log_hyperparams(CFG.__dict__)\n",
    "checkpoint_callback = ModelCheckpoint(monitor=CFG.monitor,\n",
    "                                      save_top_k=1,\n",
    "                                      save_last=True,\n",
    "                                      save_weights_only=True,\n",
    "                                      filename='{epoch:02d}-{valid_loss:.4f}-{valid_acc:.4f}',\n",
    "                                      verbose=False,\n",
    "                                      mode='min')\n",
    "early_stop_callback = EarlyStopping(monitor=CFG.monitor, \n",
    "                                    patience=CFG.patience, \n",
    "                                    verbose=False, \n",
    "                                    mode=\"min\")\n",
    "trainer = Trainer(\n",
    "    max_epochs=CFG.epochs,\n",
    "    gpus=[0],\n",
    "    accumulate_grad_batches=CFG.accumulate,\n",
    "    callbacks=[checkpoint_callback, early_stop_callback], \n",
    "    log_every_n_steps=1,\n",
    "    logger=logger,\n",
    "    weights_summary='top',\n",
    ")"
   ]
  },
  {
   "cell_type": "code",
   "execution_count": null,
   "id": "cc7fa3d5",
   "metadata": {},
   "outputs": [],
   "source": [
    "driver = PhraseSimilarityModel()\n",
    "trainer.fit(driver, train_dataloaders=train_dataloader, val_dataloaders=val_dataloader)"
   ]
  }
 ],
 "metadata": {
  "kernelspec": {
   "display_name": "Python 3",
   "language": "python",
   "name": "python3"
  },
  "language_info": {
   "codemirror_mode": {
    "name": "ipython",
    "version": 3
   },
   "file_extension": ".py",
   "mimetype": "text/x-python",
   "name": "python",
   "nbconvert_exporter": "python",
   "pygments_lexer": "ipython3",
   "version": "3.7.12"
  },
  "papermill": {
   "default_parameters": {},
   "duration": 44.252091,
   "end_time": "2022-05-13T08:17:37.180251",
   "environment_variables": {},
   "exception": null,
   "input_path": "__notebook__.ipynb",
   "output_path": "__notebook__.ipynb",
   "parameters": {},
   "start_time": "2022-05-13T08:16:52.928160",
   "version": "2.3.4"
  },
  "widgets": {
   "application/vnd.jupyter.widget-state+json": {
    "state": {
     "3ec307702b2b4de89151d88414905301": {
      "model_module": "@jupyter-widgets/controls",
      "model_module_version": "1.5.0",
      "model_name": "HBoxModel",
      "state": {
       "_dom_classes": [],
       "_model_module": "@jupyter-widgets/controls",
       "_model_module_version": "1.5.0",
       "_model_name": "HBoxModel",
       "_view_count": null,
       "_view_module": "@jupyter-widgets/controls",
       "_view_module_version": "1.5.0",
       "_view_name": "HBoxView",
       "box_style": "",
       "children": [
        "IPY_MODEL_6895f73be2804b1e8f050458f7e60b14",
        "IPY_MODEL_c7e3a21620e54115838fc41260a24f00",
        "IPY_MODEL_4605315aa79444b8ad2d44f1c77d5c24"
       ],
       "layout": "IPY_MODEL_7a89ae684dbf4628888793cce63e73a9"
      }
     },
     "3ee936b7fad04dbb8fb4177b54ca9281": {
      "model_module": "@jupyter-widgets/base",
      "model_module_version": "1.2.0",
      "model_name": "LayoutModel",
      "state": {
       "_model_module": "@jupyter-widgets/base",
       "_model_module_version": "1.2.0",
       "_model_name": "LayoutModel",
       "_view_count": null,
       "_view_module": "@jupyter-widgets/base",
       "_view_module_version": "1.2.0",
       "_view_name": "LayoutView",
       "align_content": null,
       "align_items": null,
       "align_self": null,
       "border": null,
       "bottom": null,
       "display": null,
       "flex": null,
       "flex_flow": null,
       "grid_area": null,
       "grid_auto_columns": null,
       "grid_auto_flow": null,
       "grid_auto_rows": null,
       "grid_column": null,
       "grid_gap": null,
       "grid_row": null,
       "grid_template_areas": null,
       "grid_template_columns": null,
       "grid_template_rows": null,
       "height": null,
       "justify_content": null,
       "justify_items": null,
       "left": null,
       "margin": null,
       "max_height": null,
       "max_width": null,
       "min_height": null,
       "min_width": null,
       "object_fit": null,
       "object_position": null,
       "order": null,
       "overflow": null,
       "overflow_x": null,
       "overflow_y": null,
       "padding": null,
       "right": null,
       "top": null,
       "visibility": null,
       "width": null
      }
     },
     "4605315aa79444b8ad2d44f1c77d5c24": {
      "model_module": "@jupyter-widgets/controls",
      "model_module_version": "1.5.0",
      "model_name": "HTMLModel",
      "state": {
       "_dom_classes": [],
       "_model_module": "@jupyter-widgets/controls",
       "_model_module_version": "1.5.0",
       "_model_name": "HTMLModel",
       "_view_count": null,
       "_view_module": "@jupyter-widgets/controls",
       "_view_module_version": "1.5.0",
       "_view_name": "HTMLView",
       "description": "",
       "description_tooltip": null,
       "layout": "IPY_MODEL_6aac9d05c5c54f8e8c8f4e92ce78d3f1",
       "placeholder": "​",
       "style": "IPY_MODEL_a089b16b813445779b805bbf99d93535",
       "value": " 3/3 [00:02&lt;00:00,  1.27it/s]"
      }
     },
     "5c05ed3280cb4292a4822544112b2831": {
      "model_module": "@jupyter-widgets/controls",
      "model_module_version": "1.5.0",
      "model_name": "ProgressStyleModel",
      "state": {
       "_model_module": "@jupyter-widgets/controls",
       "_model_module_version": "1.5.0",
       "_model_name": "ProgressStyleModel",
       "_view_count": null,
       "_view_module": "@jupyter-widgets/base",
       "_view_module_version": "1.2.0",
       "_view_name": "StyleView",
       "bar_color": null,
       "description_width": ""
      }
     },
     "6895f73be2804b1e8f050458f7e60b14": {
      "model_module": "@jupyter-widgets/controls",
      "model_module_version": "1.5.0",
      "model_name": "HTMLModel",
      "state": {
       "_dom_classes": [],
       "_model_module": "@jupyter-widgets/controls",
       "_model_module_version": "1.5.0",
       "_model_name": "HTMLModel",
       "_view_count": null,
       "_view_module": "@jupyter-widgets/controls",
       "_view_module_version": "1.5.0",
       "_view_name": "HTMLView",
       "description": "",
       "description_tooltip": null,
       "layout": "IPY_MODEL_3ee936b7fad04dbb8fb4177b54ca9281",
       "placeholder": "​",
       "style": "IPY_MODEL_69d8c7cf700a446ca82e9aa12ef696d9",
       "value": "Predicting DataLoader 0: 100%"
      }
     },
     "69d8c7cf700a446ca82e9aa12ef696d9": {
      "model_module": "@jupyter-widgets/controls",
      "model_module_version": "1.5.0",
      "model_name": "DescriptionStyleModel",
      "state": {
       "_model_module": "@jupyter-widgets/controls",
       "_model_module_version": "1.5.0",
       "_model_name": "DescriptionStyleModel",
       "_view_count": null,
       "_view_module": "@jupyter-widgets/base",
       "_view_module_version": "1.2.0",
       "_view_name": "StyleView",
       "description_width": ""
      }
     },
     "6aac9d05c5c54f8e8c8f4e92ce78d3f1": {
      "model_module": "@jupyter-widgets/base",
      "model_module_version": "1.2.0",
      "model_name": "LayoutModel",
      "state": {
       "_model_module": "@jupyter-widgets/base",
       "_model_module_version": "1.2.0",
       "_model_name": "LayoutModel",
       "_view_count": null,
       "_view_module": "@jupyter-widgets/base",
       "_view_module_version": "1.2.0",
       "_view_name": "LayoutView",
       "align_content": null,
       "align_items": null,
       "align_self": null,
       "border": null,
       "bottom": null,
       "display": null,
       "flex": null,
       "flex_flow": null,
       "grid_area": null,
       "grid_auto_columns": null,
       "grid_auto_flow": null,
       "grid_auto_rows": null,
       "grid_column": null,
       "grid_gap": null,
       "grid_row": null,
       "grid_template_areas": null,
       "grid_template_columns": null,
       "grid_template_rows": null,
       "height": null,
       "justify_content": null,
       "justify_items": null,
       "left": null,
       "margin": null,
       "max_height": null,
       "max_width": null,
       "min_height": null,
       "min_width": null,
       "object_fit": null,
       "object_position": null,
       "order": null,
       "overflow": null,
       "overflow_x": null,
       "overflow_y": null,
       "padding": null,
       "right": null,
       "top": null,
       "visibility": null,
       "width": null
      }
     },
     "7a736786cfe5438cb3738e2f0ed03d56": {
      "model_module": "@jupyter-widgets/base",
      "model_module_version": "1.2.0",
      "model_name": "LayoutModel",
      "state": {
       "_model_module": "@jupyter-widgets/base",
       "_model_module_version": "1.2.0",
       "_model_name": "LayoutModel",
       "_view_count": null,
       "_view_module": "@jupyter-widgets/base",
       "_view_module_version": "1.2.0",
       "_view_name": "LayoutView",
       "align_content": null,
       "align_items": null,
       "align_self": null,
       "border": null,
       "bottom": null,
       "display": null,
       "flex": "2",
       "flex_flow": null,
       "grid_area": null,
       "grid_auto_columns": null,
       "grid_auto_flow": null,
       "grid_auto_rows": null,
       "grid_column": null,
       "grid_gap": null,
       "grid_row": null,
       "grid_template_areas": null,
       "grid_template_columns": null,
       "grid_template_rows": null,
       "height": null,
       "justify_content": null,
       "justify_items": null,
       "left": null,
       "margin": null,
       "max_height": null,
       "max_width": null,
       "min_height": null,
       "min_width": null,
       "object_fit": null,
       "object_position": null,
       "order": null,
       "overflow": null,
       "overflow_x": null,
       "overflow_y": null,
       "padding": null,
       "right": null,
       "top": null,
       "visibility": null,
       "width": null
      }
     },
     "7a89ae684dbf4628888793cce63e73a9": {
      "model_module": "@jupyter-widgets/base",
      "model_module_version": "1.2.0",
      "model_name": "LayoutModel",
      "state": {
       "_model_module": "@jupyter-widgets/base",
       "_model_module_version": "1.2.0",
       "_model_name": "LayoutModel",
       "_view_count": null,
       "_view_module": "@jupyter-widgets/base",
       "_view_module_version": "1.2.0",
       "_view_name": "LayoutView",
       "align_content": null,
       "align_items": null,
       "align_self": null,
       "border": null,
       "bottom": null,
       "display": "inline-flex",
       "flex": null,
       "flex_flow": "row wrap",
       "grid_area": null,
       "grid_auto_columns": null,
       "grid_auto_flow": null,
       "grid_auto_rows": null,
       "grid_column": null,
       "grid_gap": null,
       "grid_row": null,
       "grid_template_areas": null,
       "grid_template_columns": null,
       "grid_template_rows": null,
       "height": null,
       "justify_content": null,
       "justify_items": null,
       "left": null,
       "margin": null,
       "max_height": null,
       "max_width": null,
       "min_height": null,
       "min_width": null,
       "object_fit": null,
       "object_position": null,
       "order": null,
       "overflow": null,
       "overflow_x": null,
       "overflow_y": null,
       "padding": null,
       "right": null,
       "top": null,
       "visibility": null,
       "width": "100%"
      }
     },
     "a089b16b813445779b805bbf99d93535": {
      "model_module": "@jupyter-widgets/controls",
      "model_module_version": "1.5.0",
      "model_name": "DescriptionStyleModel",
      "state": {
       "_model_module": "@jupyter-widgets/controls",
       "_model_module_version": "1.5.0",
       "_model_name": "DescriptionStyleModel",
       "_view_count": null,
       "_view_module": "@jupyter-widgets/base",
       "_view_module_version": "1.2.0",
       "_view_name": "StyleView",
       "description_width": ""
      }
     },
     "c7e3a21620e54115838fc41260a24f00": {
      "model_module": "@jupyter-widgets/controls",
      "model_module_version": "1.5.0",
      "model_name": "FloatProgressModel",
      "state": {
       "_dom_classes": [],
       "_model_module": "@jupyter-widgets/controls",
       "_model_module_version": "1.5.0",
       "_model_name": "FloatProgressModel",
       "_view_count": null,
       "_view_module": "@jupyter-widgets/controls",
       "_view_module_version": "1.5.0",
       "_view_name": "ProgressView",
       "bar_style": "success",
       "description": "",
       "description_tooltip": null,
       "layout": "IPY_MODEL_7a736786cfe5438cb3738e2f0ed03d56",
       "max": 1,
       "min": 0,
       "orientation": "horizontal",
       "style": "IPY_MODEL_5c05ed3280cb4292a4822544112b2831",
       "value": 1
      }
     }
    },
    "version_major": 2,
    "version_minor": 0
   }
  }
 },
 "nbformat": 4,
 "nbformat_minor": 5
}
